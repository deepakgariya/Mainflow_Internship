{
 "cells": [
  {
   "cell_type": "code",
   "execution_count": 3,
   "id": "1c2c2eb8-9302-41b1-9864-d2ac4a7a2cbf",
   "metadata": {},
   "outputs": [
    {
     "name": "stdout",
     "output_type": "stream",
     "text": [
      "Updated List: ['apple', 'Guava', 'pineapple', 'orange']\n"
     ]
    }
   ],
   "source": [
    "# Task 1\n",
    "# Write a Python code to create a list, a dictionary, and a set. Perform basic operations like adding, removing, and modifying elements.\n",
    "\n",
    "# Lists are used to store multiple items in a single variable. Lists are created using square brackets.\n",
    "# List items are ordered, changeable, and allow duplicate values.\n",
    "my_list = [\"apple\", \"mango\", \"banana\", \"pineapple\"]\n",
    "\n",
    "# change list items\n",
    "my_list[1] = \"Guava\"\n",
    "\n",
    "# adding elements\n",
    "my_list.append(\"orange\")\n",
    "\n",
    "# removing elements\n",
    "my_list.remove(\"banana\")\n",
    "\n",
    "print(\"Updated List:\", my_list)\n"
   ]
  },
  {
   "cell_type": "code",
   "execution_count": 27,
   "id": "c63e32dc-3154-4a00-ab34-85294f67abb3",
   "metadata": {},
   "outputs": [
    {
     "name": "stdout",
     "output_type": "stream",
     "text": [
      "Updated Set: {'Ronaldo', 'Cristiano', 9, 'Garry', 'Siiuuuu'}\n"
     ]
    }
   ],
   "source": [
    "# Sets are used to store multiple items in a single variable. A set is a collection that is unordered, unchangeable, and unindexed.\n",
    "# Sets are written with curly brackets.\n",
    "my_set = {\"Mbappe\", \"Cristiano\", \"Garry\", \"Messi\" ,9}\n",
    "\n",
    "# modifying set elements\n",
    "my_set.discard(\"Messi\")\n",
    "my_set.add(\"Siiuuuu\")\n",
    "\n",
    "# adding elements\n",
    "my_set.add(\"Ronaldo\")\n",
    "\n",
    "# removing elements\n",
    "my_set.remove(\"Mbappe\")\n",
    "\n",
    "print(\"Updated Set:\", my_set)"
   ]
  },
  {
   "cell_type": "code",
   "execution_count": 28,
   "id": "de371c8e-9783-43b7-a4e3-6ce0f35c9a52",
   "metadata": {},
   "outputs": [
    {
     "name": "stdout",
     "output_type": "stream",
     "text": [
      "Updated Dictionary: {'Germany': 'Berlin', 'England': 'London', 'India': 'New Delhi'}\n"
     ]
    }
   ],
   "source": [
    "# Dictionaries are used to store data values in key: value pairs. A dictionary is a collection that is ordered, changeable and does not allow duplicates.\n",
    "# Dictionaries are written with curly brackets.\n",
    "# creating a dictionary\n",
    "my_dict = {\n",
    "  \"Germany\": \"Berlin\", \n",
    "  \"Canada\": \"Ottawa\", \n",
    "  \"England\": \"UK\"\n",
    "}\n",
    "\n",
    "# modifying dictionary elements\n",
    "my_dict[\"England\"] = \"London\"\n",
    "\n",
    "# adding elements\n",
    "my_dict[\"India\"] = \"New Delhi\"\n",
    "\n",
    "# removing elements\n",
    "my_dict.pop(\"Canada\")\n",
    "\n",
    "print(\"Updated Dictionary:\", my_dict)"
   ]
  }
 ],
 "metadata": {
  "kernelspec": {
   "display_name": "Python 3 (ipykernel)",
   "language": "python",
   "name": "python3"
  },
  "language_info": {
   "codemirror_mode": {
    "name": "ipython",
    "version": 3
   },
   "file_extension": ".py",
   "mimetype": "text/x-python",
   "name": "python",
   "nbconvert_exporter": "python",
   "pygments_lexer": "ipython3",
   "version": "3.12.4"
  }
 },
 "nbformat": 4,
 "nbformat_minor": 5
}
